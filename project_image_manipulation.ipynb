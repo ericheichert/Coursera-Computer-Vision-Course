{
  "nbformat": 4,
  "nbformat_minor": 0,
  "metadata": {
    "colab": {
      "provenance": [],
      "include_colab_link": true
    },
    "kernelspec": {
      "name": "python3",
      "display_name": "Python 3"
    },
    "language_info": {
      "name": "python"
    }
  },
  "cells": [
    {
      "cell_type": "markdown",
      "metadata": {
        "id": "view-in-github",
        "colab_type": "text"
      },
      "source": [
        "<a href=\"https://colab.research.google.com/github/ericheichert/ericheichert.github.io/blob/master/project_image_manipulation.ipynb\" target=\"_parent\"><img src=\"https://colab.research.google.com/assets/colab-badge.svg\" alt=\"Open In Colab\"/></a>"
      ]
    },
    {
      "cell_type": "markdown",
      "metadata": {
        "id": "kJTF_psfb-tP"
      },
      "source": [
        "# Project: Image Manipulation\n",
        "\n",
        "[![Open In Colab <](https://colab.research.google.com/assets/colab-badge.svg)](https://colab.research.google.com/github/ShawnHymel/computer-vision-with-embedded-machine-learning/blob/master/1.1.5%20-%20Project%20-%20Loading%20and%20Manipulating%20Images/project_image_manipulation.ipynb)\n",
        "\n",
        "Welcome to your first project in the Computer Vision with Embedded Machine Learning course! Follow along with the project prompts to complete this project. Press 'shift + enter' to run a cell.\n",
        "\n",
        "Author: EdgeImpulse, Inc.<br>\n",
        "Date: July 30, 2021<br>\n",
        "License: [Apache-2.0](apache.org/licenses/LICENSE-2.0)<br>"
      ]
    },
    {
      "cell_type": "code",
      "metadata": {
        "id": "UHU8rIFNe06Z",
        "outputId": "f496aa4c-eddd-4599-a447-d3f3c9f53d57",
        "colab": {
          "base_uri": "https://localhost:8080/"
        }
      },
      "source": [
        "### Example: Try running this cell. Press 'shift + enter'.\n",
        "\n",
        "var = 1 + 2\n",
        "print(\"Answer:\", var)"
      ],
      "execution_count": 1,
      "outputs": [
        {
          "output_type": "stream",
          "name": "stdout",
          "text": [
            "Answer: 3\n"
          ]
        }
      ]
    },
    {
      "cell_type": "markdown",
      "metadata": {
        "id": "JjupkIoxfkJv"
      },
      "source": [
        "Google Colab runs Jupyter Notebook, which is a web-based client application that allows you to run code (Python in this case) on a server. Similar to an interactive Python console, you can run pieces of code (stored in \"cells\") at a time rather than running (and debugging) an entire program.\n",
        "\n",
        "Variables are saved between cells, unless you select *Runtime > Restart Runtime* to delete all your stored variables. You'll need to run all of your cells again if you do that.\n",
        "\n",
        "If you need help with Jupyter Notebook, you can read the documentation here: https://jupyter-notebook.readthedocs.io/en/stable/\n",
        "\n",
        "If this is your first time using Colab, I recommend reading through this [getting start guide](https://www.tutorialspoint.com/google_colab/google_colab_quick_guide.htm)."
      ]
    },
    {
      "cell_type": "markdown",
      "metadata": {
        "id": "l1tYPuB2enzT"
      },
      "source": [
        "## Part 1: Load an Image\n",
        "\n",
        "On the left side of Colab, click the folder icon. Click the upload icon and select one of your captured dataset images."
      ]
    },
    {
      "cell_type": "code",
      "metadata": {
        "id": "Ad3-vwQ5b6sm"
      },
      "source": [
        "### You will likely need these libraries\n",
        "\n",
        "import os\n",
        "from PIL import Image"
      ],
      "execution_count": 5,
      "outputs": []
    },
    {
      "cell_type": "markdown",
      "metadata": {
        "id": "8WAaZbSKiDpL"
      },
      "source": [
        "You might need to use the `os.path.join()` function to create a string that points to the location of your image. You can read more about it here: https://docs.python.org/3/library/os.path.html#os.path.join\n",
        "\n",
        "There are a few ways to open an image in Python. I recommend using the Image module in the PIL package to do that. You can read about the Image module here: https://pillow.readthedocs.io/en/stable/reference/Image.html. You will also need to use the `Image.convert()` function to convert the image to grayscale (documentation found on that same page)."
      ]
    },
    {
      "cell_type": "code",
      "metadata": {
        "id": "UNUskjg_g83e"
      },
      "source": [
        "### Open image and convert to grayscale.\n",
        "\n",
        "# Placeholder--you need to save the grayscale image in the 'img' variable\n",
        "img = None\n",
        "img_path = \"/content/4.png\"\n",
        "\n",
        "# >>> ENTER YOUR CODE HERE <<<\n",
        "with Image.open(img_path) as im:\n",
        "    img = im.convert('L')"
      ],
      "execution_count": 28,
      "outputs": []
    },
    {
      "cell_type": "markdown",
      "metadata": {
        "id": "L7GI22Xxj8Xw"
      },
      "source": [
        "We can preview the image using the `imshow()` function as part of the matplotlib library. You can read about it here: https://matplotlib.org/stable/api/_as_gen/matplotlib.pyplot.imshow.html"
      ]
    },
    {
      "cell_type": "code",
      "metadata": {
        "id": "JQdwaFn0iuby"
      },
      "source": [
        "### Load the pyplot module (from matplotlib)\n",
        "\n",
        "import matplotlib.pyplot as plt"
      ],
      "execution_count": 29,
      "outputs": []
    },
    {
      "cell_type": "code",
      "metadata": {
        "id": "9F6R8J_PizR6",
        "colab": {
          "base_uri": "https://localhost:8080/",
          "height": 450
        },
        "outputId": "001086f8-8ec1-4cd6-8b75-870ce5d26d63"
      },
      "source": [
        "### View the image\n",
        "\n",
        "# At this point, your image should be loaded and saved in the 'img' variable. Let's view it.\n",
        "plt.imshow(img, cmap='gray', vmin=0, vmax=255)"
      ],
      "execution_count": 30,
      "outputs": [
        {
          "output_type": "execute_result",
          "data": {
            "text/plain": [
              "<matplotlib.image.AxesImage at 0x7ea64a23c520>"
            ]
          },
          "metadata": {},
          "execution_count": 30
        },
        {
          "output_type": "display_data",
          "data": {
            "text/plain": [
              "<Figure size 640x480 with 1 Axes>"
            ],
            "image/png": "[encoded data removed]"
          },
          "metadata": {}
        }
      ]
    },
    {
      "cell_type": "markdown",
      "metadata": {
        "id": "yxaImmZal6i2"
      },
      "source": [
        "## Part 2: Convert Image to Numpy Array\n",
        "\n",
        "PIL Image objects are useful for some object manipulation, but to really get our hands dirty, we want to convert everything to numerical arrays. We'll use Numpy to work with such arrays.\n",
        "\n",
        "Numpy is a powerful Python library that allows us to efficiently work with multi-dimensional arrays. If this is your first time using Numpy, I recommend reading through this tutorial (try running some of the commands!): https://towardsdatascience.com/getting-started-with-numpy-59b22df56729"
      ]
    },
    {
      "cell_type": "code",
      "metadata": {
        "id": "Wt74ISbOlDd7"
      },
      "source": [
        "### We'll obviously need the Numpy package\n",
        "\n",
        "import numpy as np"
      ],
      "execution_count": 27,
      "outputs": []
    },
    {
      "cell_type": "markdown",
      "metadata": {
        "id": "ahKzexN-vYtv"
      },
      "source": [
        "I recommend using the `asarray()` function in Numpy to conver the PIL Image object. You can read about it here: https://numpy.org/doc/stable/reference/generated/numpy.asarray.html"
      ]
    },
    {
      "cell_type": "code",
      "metadata": {
        "id": "GYqEVTN4uvMl"
      },
      "source": [
        "### Convert the Image object to a Numpy array\n",
        "\n",
        "# Save your Numpy array in the 'img_array' variable\n",
        "img_array = None\n",
        "\n",
        "# >>> ENTER YOUR CODE HERE <<<\n",
        "img_array = np.asarray(img)"
      ],
      "execution_count": 31,
      "outputs": []
    },
    {
      "cell_type": "code",
      "metadata": {
        "id": "4aGsrVZYwBEd",
        "colab": {
          "base_uri": "https://localhost:8080/",
          "height": 450
        },
        "outputId": "f88b11b8-2922-4c93-b875-90aa0ca85f20"
      },
      "source": [
        "### View the array as an image\n",
        "\n",
        "# At this point, your image should be saved as a Numpy array in the 'img_array' variable\n",
        "plt.imshow(img_array, cmap='gray', vmin=0, vmax=255)"
      ],
      "execution_count": 36,
      "outputs": [
        {
          "output_type": "execute_result",
          "data": {
            "text/plain": [
              "<matplotlib.image.AxesImage at 0x7ea6673b2020>"
            ]
          },
          "metadata": {},
          "execution_count": 36
        },
        {
          "output_type": "display_data",
          "data": {
            "text/plain": [
              "<Figure size 640x480 with 1 Axes>"
            ],
            "image/png": "[encoded data removed]"
          },
          "metadata": {}
        }
      ]
    },
    {
      "cell_type": "code",
      "metadata": {
        "id": "65iaXwyAwKcq",
        "colab": {
          "base_uri": "https://localhost:8080/"
        },
        "outputId": "9667f39b-cdf1-4dec-8c44-b3873d64e0f1"
      },
      "source": [
        "### View details about the array: print the shape, entire array, first row, and first column\n",
        "# Note that Python may leave out some values when printing the entire array.\n",
        "# Make sure that the first row and first column look correct!\n",
        "\n",
        "# >>> ENTER YOUR CODE HERE <<<\n",
        "print('shape = \"{npshape}\"'.format(npshape=img_array.shape))\n",
        "print(\"Entire array:\\n\", img_array)\n",
        "print(\"First row:\\n\", img_array[0])\n",
        "print(\"First column:\\n\", img_array[:, 0])"
      ],
      "execution_count": 42,
      "outputs": [
        {
          "output_type": "stream",
          "name": "stdout",
          "text": [
            "shape = \"(96, 96)\"\n",
            "Entire array:\n",
            " [[158 158 158 ... 164 164 164]\n",
            " [158 158 158 ... 163 163 163]\n",
            " [158 158 158 ... 164 164 164]\n",
            " ...\n",
            " [124 124 124 ... 150 150 150]\n",
            " [125 125 125 ... 152 149 152]\n",
            " [122 122 122 ... 149 149 149]]\n",
            "First row:\n",
            " [158 158 158 158 158 158 158 161 161 161 161 161 161 163 163 163 163 163\n",
            " 161 161 163 163 163 163 163 163 163 163 161 161 161 163 163 161 163 163\n",
            " 163 163 163 163 163 163 164 164 164 164 164 164 163 163 163 163 163 163\n",
            " 163 163 163 163 163 163 163 163 164 164 164 164 164 164 164 164 164 164\n",
            " 163 163 163 166 166 166 166 166 166 166 164 164 164 164 164 164 164 164\n",
            " 164 164 164 164 164 164]\n",
            "First column:\n",
            " [158 158 158 158 161 161 158 158 158 158 158 158 158 158 158 158 158 158\n",
            " 158 157 157 158 158 158 157 157 157 157 157 157 157 157 157 158 158 158\n",
            " 157 158 155 155 155 157 155 155 155 155 155 155 152 152 152 152 149 149\n",
            " 150 150 149 149 147 147 149 147 147 147 149 147 147 147 147 147 147 147\n",
            " 144 144 144 141 144 139 139 139 139 139 136 139 136 133 131 131 128 128\n",
            " 128 127 127 124 125 122]\n"
          ]
        }
      ]
    },
    {
      "cell_type": "markdown",
      "metadata": {
        "id": "6obWluMAxfta"
      },
      "source": [
        "## Part 3: Resize Image\n",
        "\n",
        "We can use a variety of functions to change the image, which will help us curate our dataset as well as work with image data on our embedded devices.\n",
        "\n",
        "To start, we'll resize the image to something smaller. Resizing, scaling, and zooming images is often not trivial, so we'll rely on the transform module in the scikit-image package to help us. You can read more about the resize function here: https://scikit-image.org/docs/dev/api/skimage.transform.html#skimage.transform.resize"
      ]
    },
    {
      "cell_type": "code",
      "metadata": {
        "id": "5g0__YgZwjw8"
      },
      "source": [
        "### We'll use the Scikit-Image Transform module to help us resize the image\n",
        "\n",
        "from skimage.transform import resize"
      ],
      "execution_count": 43,
      "outputs": []
    },
    {
      "cell_type": "code",
      "metadata": {
        "id": "j-SNuTOGwqTZ"
      },
      "source": [
        "### Use the \"resize\" function to resize your image array to 28x28 pixels.\n",
        "# I recommend setting the \"anti_aliasing\" parameter to True.\n",
        "# Print the array's shape when you are done (it should be (28, 28))\n",
        "\n",
        "# Save your resized image in the 'img_resized' variable\n",
        "img_resized = None\n",
        "\n",
        "# >>> ENTER YOUR CODE HERE <<<\n"
      ],
      "execution_count": null,
      "outputs": []
    },
    {
      "cell_type": "code",
      "metadata": {
        "id": "LCIFvHSdzhAG"
      },
      "source": [
        "### View the new array as an image (this should look all black--that's OK!)\n",
        "\n",
        "# At this point, your resized image should be saved in the 'img_resized' variable\n",
        "plt.imshow(img_resized, cmap='gray', vmin=0, vmax=255)"
      ],
      "execution_count": null,
      "outputs": []
    },
    {
      "cell_type": "markdown",
      "metadata": {
        "id": "G51eLl5z0Cz_"
      },
      "source": [
        "What happened?!? Why is the image all black?\n",
        "\n",
        "The resize function in skimage automatically *normalizes* all of the values in the image to be between 0.0 and 1.0 (they were integers between 0 and 255 previously). Feel free to print out some values from the array to verify this.\n",
        "\n",
        "Let's go back to those 8-bit grayscale values!\n",
        "\n",
        "You can use the Numpy [rint()](https://numpy.org/doc/stable/reference/generated/numpy.rint.html#numpy.rint) and [astype()](https://numpy.org/doc/stable/reference/generated/numpy.ndarray.astype.html) functions to round and convert to integers, respectively. You can use the [clip()](https://numpy.org/doc/stable/reference/generated/numpy.clip.html) function to clamp elements in an array to be between 2 values."
      ]
    },
    {
      "cell_type": "code",
      "metadata": {
        "id": "ri8iscxfz74e"
      },
      "source": [
        "### Convert the normalized 0.0 to 1.0 values in your image to 0 to 255 integers\n",
        "# Save this 8-bit array back into the 'img_resized' variable\n",
        "# Round or truncate all elements to integer values (no floating point decimals)\n",
        "# Make sure all elements are between 0 and 255 (known as \"clamping\")\n",
        "\n",
        "# >>> ENTER YOUR CODE HERE <<<\n"
      ],
      "execution_count": null,
      "outputs": []
    },
    {
      "cell_type": "code",
      "metadata": {
        "id": "LHg6_QCh08ms"
      },
      "source": [
        "### Let's try drawing the image again\n",
        "\n",
        "# At this point, your resized image should be saved in the 'img_resized' variable\n",
        "plt.imshow(img_resized, cmap='gray', vmin=0, vmax=255)"
      ],
      "execution_count": null,
      "outputs": []
    },
    {
      "cell_type": "markdown",
      "metadata": {
        "id": "6Anav0wq3a-z"
      },
      "source": [
        "## Part 4: Draw on the Image\n",
        "\n",
        "Here's your final challenge for this project: draw a white 10x10 square (unfilled, outline thickness of 1 pixel) in the middle of your image.\n",
        "\n",
        "You must do this by manipulating the raw values in the Numpy array. You may not use other libraries to help you (such as by drawing a [Rectangle](https://matplotlib.org/stable/api/_as_gen/matplotlib.patches.Rectangle.html) with matplotlib).\n",
        "\n",
        "I'd like you to try this exercise for two reasons:\n",
        "\n",
        "1.   You get practice slicing arrays in Numpy\n",
        "2.   You won't have matplotlib on some embedded systems, and you'll have to draw things like bounding boxes manually\n",
        "\n",
        "If you have not used Numpy (or other linear algebra systems, like R and MATLAB) before, this can be tricky. I highly recommend avoiding using for loops, as Numpy is highly optimized for array operations without them. You may want to read through this tutorial to get an understanding of this style of array programming: https://realpython.com/numpy-array-programming/"
      ]
    },
    {
      "cell_type": "code",
      "metadata": {
        "id": "8uUejjaj3agp"
      },
      "source": [
        "### Change the required elements in the Numpy array so that a 10x10 white square is drawn in the\n",
        "# middle. Try to avoid using for loops if possible.\n",
        "\n",
        "# Start with your resized image\n",
        "img_with_box = np.copy(img_resized)\n",
        "\n",
        "# >>> ENTER YOUR CODE HERE <<<\n"
      ],
      "execution_count": null,
      "outputs": []
    },
    {
      "cell_type": "code",
      "metadata": {
        "id": "s3tR-S1e6_-b"
      },
      "source": [
        "### Draw the image--you should see a white squre in the middle!\n",
        "\n",
        "# Your image should be saved in the 'img_with_square\n",
        "plt.imshow(img_with_box, cmap='gray', vmin=0, vmax=255)"
      ],
      "execution_count": null,
      "outputs": []
    }
  ]
}